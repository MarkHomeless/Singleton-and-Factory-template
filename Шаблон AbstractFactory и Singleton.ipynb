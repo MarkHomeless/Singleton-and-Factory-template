{
 "cells": [
  {
   "cell_type": "code",
   "execution_count": 1,
   "metadata": {},
   "outputs": [],
   "source": [
    "from abc import ABC, abstractmethod#модуль для абстрактных методов и классов"
   ]
  },
  {
   "cell_type": "code",
   "execution_count": 2,
   "metadata": {},
   "outputs": [],
   "source": [
    "class HeroFactory(ABC):#Абстрактный класс\n",
    "    @abstractmethod\n",
    "    def create_hero(self):\n",
    "        pass\n",
    "    @abstractmethod\n",
    "    def create_weapon(self):\n",
    "        pass\n",
    "class Hero:\n",
    "    '''Base hero class from which all other hero classes are inherited'''\n",
    "    def __init__(self, name, color_eyes, color_hair):#инициализация персонажа персонажа\n",
    "        self.name = name\n",
    "        self.color_eyes = color_eyes\n",
    "        self.color_hair = color_hair\n",
    "        self.weapon = None\n",
    "    def add_weapon(self, weapon):#добавление герою оружия\n",
    "        self.weapon = weapon\n",
    "class Weapon:\n",
    "    '''Base weapon class from which all other weapon classes are inherited'''\n",
    "    def __init__(self, title, damage):\n",
    "        self.title = title\n",
    "        self.damage = damage"
   ]
  },
  {
   "cell_type": "code",
   "execution_count": 13,
   "metadata": {},
   "outputs": [],
   "source": [
    "class WarriorFactory(HeroFactory):#класс создающий войнов(фабрика войнов), создается по шаблону Singleton\n",
    "    '''Сlass that creates characters of the warrior class and weapon of the sword class\n",
    "        Inherited from the abstract hero factory class'''\n",
    "    def __new__(cls):#метод, не позволяющий создавать больше одной фабрики \n",
    "        if not hasattr(cls, 'instance'):\n",
    "            cls.instance = super(WarriorFactory, cls).__new__(cls)#вызов конструктора базового класса\n",
    "        return cls.instance\n",
    "    def create_hero(self, name, color_eyes, color_hair):#создание персонажа класса воин\n",
    "        return Warrior(name, color_eyes, color_hair)\n",
    "    def create_weapon(self, title, damage):#создание оружия класса меч\n",
    "        return Sword(title, damage)\n",
    "class Warrior(Hero):\n",
    "    '''Warrior class. Inherited from the hero class'''\n",
    "    def __init__(self, name, color_eyes, color_hair):\n",
    "        super().__init__(name, color_eyes, color_hair)\n",
    "    def hit(self):#функция удара, добавлена для тестирования созданных персонажей\n",
    "        print (f'Warrior {self.name} hits with {self.weapon}')\n",
    "class Sword(Weapon):\n",
    "    '''Sword class is inherited from the weapon class'''\n",
    "    def __init__(self, title, damage):\n",
    "        super().__init__(title, damage)\n",
    "    def __str__(self):#метод, вызывающийся при печати\n",
    "        return 'sword'"
   ]
  },
  {
   "cell_type": "code",
   "execution_count": 14,
   "metadata": {},
   "outputs": [],
   "source": [
    "class AssassinFactory(HeroFactory):#класс создающий ассасинов(фабрика ассасинов), создается по шаблону Singleton\n",
    "    '''Сlass that creates characters of the assasin class and weapon of the knife class\n",
    "        Inherited from the abstract hero factory class'''\n",
    "    def __new__(cls):#метод, не позволяющий создавать больше одной фабрики\n",
    "        if not hasattr(cls, 'instance'):\n",
    "            cls.instance = super(AssassinFactory, cls).__new__(cls)\n",
    "        return cls.instance\n",
    "    def create_hero(self, name, color_eyes, color_hair):#создание персонажа класса ассасин\n",
    "        return Assassin(name, color_eyes, color_hair)\n",
    "    def create_weapon(self, title, damage):#создание оружия класса кинжал\n",
    "        return Knife(title, damage)\n",
    "class Assassin(Hero):\n",
    "    '''Assassin class. Inherited from the hero class'''\n",
    "    def __init__(self, name, color_eyes, color_hair):\n",
    "        super().__init__(name, color_eyes, color_hair)#вызов конструктора базового класса\n",
    "    def hit(self):#функция удара, добавлена для тестирования созданных персонажей\n",
    "        print (f'Assassin {self.name} hits with {self.weapon}')\n",
    "class Knife(Weapon):\n",
    "    '''Knife class is inherited from the weapon class'''\n",
    "    def __init__(self, title, damage):\n",
    "        super().__init__(title, damage)\n",
    "    def __str__(self):#метод, вызывающийся при печати\n",
    "        return 'knife'"
   ]
  },
  {
   "cell_type": "code",
   "execution_count": 15,
   "metadata": {},
   "outputs": [],
   "source": [
    "def create_hero(factory):\n",
    "    '''the function for creating characters using the factory passed to the function argument'''\n",
    "    hero = factory.create_hero(name = 'Dudoser', color_eyes = 'blue', color_hair = 'white')\n",
    "    weapon = factory.create_weapon('Cerberus', 21401)\n",
    "    hero.add_weapon(weapon)\n",
    "    return hero"
   ]
  },
  {
   "cell_type": "code",
   "execution_count": 18,
   "metadata": {},
   "outputs": [
    {
     "name": "stdout",
     "output_type": "stream",
     "text": [
      "Assassin Dudoser hits with knife\n",
      "Warrior Dudoser hits with sword\n",
      "True\n"
     ]
    }
   ],
   "source": [
    "assassin_factory = AssassinFactory()\n",
    "warrior_factory = WarriorFactory()\n",
    "assassin = create_hero(assassin_factory)\n",
    "warrior = create_hero(warrior_factory)\n",
    "assassin.hit()\n",
    "warrior.hit()\n",
    "assassin_factory_1 = AssassinFactory()\n",
    "print(assassin_factory is assassin_factory_1)"
   ]
  }
 ],
 "metadata": {
  "kernelspec": {
   "display_name": "Python 3",
   "language": "python",
   "name": "python3"
  },
  "language_info": {
   "codemirror_mode": {
    "name": "ipython",
    "version": 3
   },
   "file_extension": ".py",
   "mimetype": "text/x-python",
   "name": "python",
   "nbconvert_exporter": "python",
   "pygments_lexer": "ipython3",
   "version": "3.7.4"
  }
 },
 "nbformat": 4,
 "nbformat_minor": 2
}
